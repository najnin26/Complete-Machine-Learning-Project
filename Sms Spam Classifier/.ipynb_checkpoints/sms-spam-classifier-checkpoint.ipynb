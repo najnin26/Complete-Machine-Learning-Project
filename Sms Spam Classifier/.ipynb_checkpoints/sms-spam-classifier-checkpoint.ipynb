{
 "cells": [
  {
   "cell_type": "code",
   "execution_count": 1,
   "id": "af071235",
   "metadata": {
    "_cell_guid": "b1076dfc-b9ad-4769-8c92-a6c4dae69d19",
    "_uuid": "8f2839f25d086af736a60e9eeb907d3b93b6e0e5",
    "execution": {
     "iopub.execute_input": "2024-04-06T05:25:48.718736Z",
     "iopub.status.busy": "2024-04-06T05:25:48.717938Z",
     "iopub.status.idle": "2024-04-06T05:25:49.409404Z",
     "shell.execute_reply": "2024-04-06T05:25:49.408233Z"
    },
    "papermill": {
     "duration": 0.700232,
     "end_time": "2024-04-06T05:25:49.412181",
     "exception": false,
     "start_time": "2024-04-06T05:25:48.711949",
     "status": "completed"
    },
    "tags": []
   },
   "outputs": [],
   "source": [
    "import numpy as np\n",
    "import pandas as pd"
   ]
  },
  {
   "cell_type": "code",
   "execution_count": 2,
   "id": "d800d300",
   "metadata": {
    "execution": {
     "iopub.execute_input": "2024-04-06T05:25:49.421227Z",
     "iopub.status.busy": "2024-04-06T05:25:49.420806Z",
     "iopub.status.idle": "2024-04-06T05:25:49.456636Z",
     "shell.execute_reply": "2024-04-06T05:25:49.455680Z"
    },
    "papermill": {
     "duration": 0.042285,
     "end_time": "2024-04-06T05:25:49.458672",
     "exception": false,
     "start_time": "2024-04-06T05:25:49.416387",
     "status": "completed"
    },
    "tags": []
   },
   "outputs": [],
   "source": [
    "df = pd.read_csv('/kaggle/input/sms-spam-collection-dataset/spam.csv',encoding='latin1')"
   ]
  },
  {
   "cell_type": "code",
   "execution_count": 3,
   "id": "0a33c14d",
   "metadata": {
    "execution": {
     "iopub.execute_input": "2024-04-06T05:25:49.467369Z",
     "iopub.status.busy": "2024-04-06T05:25:49.466701Z",
     "iopub.status.idle": "2024-04-06T05:25:49.470255Z",
     "shell.execute_reply": "2024-04-06T05:25:49.469604Z"
    },
    "papermill": {
     "duration": 0.009614,
     "end_time": "2024-04-06T05:25:49.471941",
     "exception": false,
     "start_time": "2024-04-06T05:25:49.462327",
     "status": "completed"
    },
    "tags": []
   },
   "outputs": [],
   "source": [
    "# 1. Data cleaning\n",
    "# 2. EDA\n",
    "# 3. Text Preprocessing\n",
    "# 4. Model building\n",
    "# 5. Evaluation\n",
    "# 6. Improvement\n",
    "# 7. Website\n",
    "# 8. Deploy"
   ]
  },
  {
   "cell_type": "code",
   "execution_count": 4,
   "id": "1b813bcd",
   "metadata": {
    "execution": {
     "iopub.execute_input": "2024-04-06T05:25:49.479962Z",
     "iopub.status.busy": "2024-04-06T05:25:49.479538Z",
     "iopub.status.idle": "2024-04-06T05:25:49.494120Z",
     "shell.execute_reply": "2024-04-06T05:25:49.493238Z"
    },
    "papermill": {
     "duration": 0.0207,
     "end_time": "2024-04-06T05:25:49.496118",
     "exception": false,
     "start_time": "2024-04-06T05:25:49.475418",
     "status": "completed"
    },
    "tags": []
   },
   "outputs": [
    {
     "data": {
      "text/html": [
       "<div>\n",
       "<style scoped>\n",
       "    .dataframe tbody tr th:only-of-type {\n",
       "        vertical-align: middle;\n",
       "    }\n",
       "\n",
       "    .dataframe tbody tr th {\n",
       "        vertical-align: top;\n",
       "    }\n",
       "\n",
       "    .dataframe thead th {\n",
       "        text-align: right;\n",
       "    }\n",
       "</style>\n",
       "<table border=\"1\" class=\"dataframe\">\n",
       "  <thead>\n",
       "    <tr style=\"text-align: right;\">\n",
       "      <th></th>\n",
       "      <th>v1</th>\n",
       "      <th>v2</th>\n",
       "      <th>Unnamed: 2</th>\n",
       "      <th>Unnamed: 3</th>\n",
       "      <th>Unnamed: 4</th>\n",
       "    </tr>\n",
       "  </thead>\n",
       "  <tbody>\n",
       "    <tr>\n",
       "      <th>0</th>\n",
       "      <td>ham</td>\n",
       "      <td>Go until jurong point, crazy.. Available only ...</td>\n",
       "      <td>NaN</td>\n",
       "      <td>NaN</td>\n",
       "      <td>NaN</td>\n",
       "    </tr>\n",
       "    <tr>\n",
       "      <th>1</th>\n",
       "      <td>ham</td>\n",
       "      <td>Ok lar... Joking wif u oni...</td>\n",
       "      <td>NaN</td>\n",
       "      <td>NaN</td>\n",
       "      <td>NaN</td>\n",
       "    </tr>\n",
       "    <tr>\n",
       "      <th>2</th>\n",
       "      <td>spam</td>\n",
       "      <td>Free entry in 2 a wkly comp to win FA Cup fina...</td>\n",
       "      <td>NaN</td>\n",
       "      <td>NaN</td>\n",
       "      <td>NaN</td>\n",
       "    </tr>\n",
       "    <tr>\n",
       "      <th>3</th>\n",
       "      <td>ham</td>\n",
       "      <td>U dun say so early hor... U c already then say...</td>\n",
       "      <td>NaN</td>\n",
       "      <td>NaN</td>\n",
       "      <td>NaN</td>\n",
       "    </tr>\n",
       "    <tr>\n",
       "      <th>4</th>\n",
       "      <td>ham</td>\n",
       "      <td>Nah I don't think he goes to usf, he lives aro...</td>\n",
       "      <td>NaN</td>\n",
       "      <td>NaN</td>\n",
       "      <td>NaN</td>\n",
       "    </tr>\n",
       "  </tbody>\n",
       "</table>\n",
       "</div>"
      ],
      "text/plain": [
       "     v1                                                 v2 Unnamed: 2  \\\n",
       "0   ham  Go until jurong point, crazy.. Available only ...        NaN   \n",
       "1   ham                      Ok lar... Joking wif u oni...        NaN   \n",
       "2  spam  Free entry in 2 a wkly comp to win FA Cup fina...        NaN   \n",
       "3   ham  U dun say so early hor... U c already then say...        NaN   \n",
       "4   ham  Nah I don't think he goes to usf, he lives aro...        NaN   \n",
       "\n",
       "  Unnamed: 3 Unnamed: 4  \n",
       "0        NaN        NaN  \n",
       "1        NaN        NaN  \n",
       "2        NaN        NaN  \n",
       "3        NaN        NaN  \n",
       "4        NaN        NaN  "
      ]
     },
     "execution_count": 4,
     "metadata": {},
     "output_type": "execute_result"
    }
   ],
   "source": [
    "df.head()"
   ]
  },
  {
   "cell_type": "code",
   "execution_count": 5,
   "id": "26b1d060",
   "metadata": {
    "execution": {
     "iopub.execute_input": "2024-04-06T05:25:49.504154Z",
     "iopub.status.busy": "2024-04-06T05:25:49.503829Z",
     "iopub.status.idle": "2024-04-06T05:25:49.509481Z",
     "shell.execute_reply": "2024-04-06T05:25:49.508495Z"
    },
    "papermill": {
     "duration": 0.012054,
     "end_time": "2024-04-06T05:25:49.511715",
     "exception": false,
     "start_time": "2024-04-06T05:25:49.499661",
     "status": "completed"
    },
    "tags": []
   },
   "outputs": [
    {
     "data": {
      "text/plain": [
       "(5572, 5)"
      ]
     },
     "execution_count": 5,
     "metadata": {},
     "output_type": "execute_result"
    }
   ],
   "source": [
    "df.shape"
   ]
  },
  {
   "cell_type": "markdown",
   "id": "cba53902",
   "metadata": {
    "papermill": {
     "duration": 0.003413,
     "end_time": "2024-04-06T05:25:49.518914",
     "exception": false,
     "start_time": "2024-04-06T05:25:49.515501",
     "status": "completed"
    },
    "tags": []
   },
   "source": [
    "# **1. Data Cleaning**"
   ]
  },
  {
   "cell_type": "code",
   "execution_count": 6,
   "id": "749a172e",
   "metadata": {
    "execution": {
     "iopub.execute_input": "2024-04-06T05:25:49.527309Z",
     "iopub.status.busy": "2024-04-06T05:25:49.527027Z",
     "iopub.status.idle": "2024-04-06T05:25:49.548536Z",
     "shell.execute_reply": "2024-04-06T05:25:49.547315Z"
    },
    "papermill": {
     "duration": 0.028282,
     "end_time": "2024-04-06T05:25:49.550744",
     "exception": false,
     "start_time": "2024-04-06T05:25:49.522462",
     "status": "completed"
    },
    "tags": []
   },
   "outputs": [
    {
     "name": "stdout",
     "output_type": "stream",
     "text": [
      "<class 'pandas.core.frame.DataFrame'>\n",
      "RangeIndex: 5572 entries, 0 to 5571\n",
      "Data columns (total 5 columns):\n",
      " #   Column      Non-Null Count  Dtype \n",
      "---  ------      --------------  ----- \n",
      " 0   v1          5572 non-null   object\n",
      " 1   v2          5572 non-null   object\n",
      " 2   Unnamed: 2  50 non-null     object\n",
      " 3   Unnamed: 3  12 non-null     object\n",
      " 4   Unnamed: 4  6 non-null      object\n",
      "dtypes: object(5)\n",
      "memory usage: 217.8+ KB\n"
     ]
    }
   ],
   "source": [
    "df.info()"
   ]
  },
  {
   "cell_type": "code",
   "execution_count": 7,
   "id": "d7452a89",
   "metadata": {
    "execution": {
     "iopub.execute_input": "2024-04-06T05:25:49.559844Z",
     "iopub.status.busy": "2024-04-06T05:25:49.559525Z",
     "iopub.status.idle": "2024-04-06T05:25:49.565030Z",
     "shell.execute_reply": "2024-04-06T05:25:49.564361Z"
    },
    "papermill": {
     "duration": 0.011827,
     "end_time": "2024-04-06T05:25:49.566696",
     "exception": false,
     "start_time": "2024-04-06T05:25:49.554869",
     "status": "completed"
    },
    "tags": []
   },
   "outputs": [],
   "source": [
    "df.drop(columns=['Unnamed: 2','Unnamed: 3','Unnamed: 4'],inplace=True)"
   ]
  },
  {
   "cell_type": "code",
   "execution_count": 8,
   "id": "9398dec5",
   "metadata": {
    "execution": {
     "iopub.execute_input": "2024-04-06T05:25:49.575598Z",
     "iopub.status.busy": "2024-04-06T05:25:49.575056Z",
     "iopub.status.idle": "2024-04-06T05:25:49.582718Z",
     "shell.execute_reply": "2024-04-06T05:25:49.581865Z"
    },
    "papermill": {
     "duration": 0.014146,
     "end_time": "2024-04-06T05:25:49.584644",
     "exception": false,
     "start_time": "2024-04-06T05:25:49.570498",
     "status": "completed"
    },
    "tags": []
   },
   "outputs": [
    {
     "data": {
      "text/html": [
       "<div>\n",
       "<style scoped>\n",
       "    .dataframe tbody tr th:only-of-type {\n",
       "        vertical-align: middle;\n",
       "    }\n",
       "\n",
       "    .dataframe tbody tr th {\n",
       "        vertical-align: top;\n",
       "    }\n",
       "\n",
       "    .dataframe thead th {\n",
       "        text-align: right;\n",
       "    }\n",
       "</style>\n",
       "<table border=\"1\" class=\"dataframe\">\n",
       "  <thead>\n",
       "    <tr style=\"text-align: right;\">\n",
       "      <th></th>\n",
       "      <th>v1</th>\n",
       "      <th>v2</th>\n",
       "    </tr>\n",
       "  </thead>\n",
       "  <tbody>\n",
       "    <tr>\n",
       "      <th>0</th>\n",
       "      <td>ham</td>\n",
       "      <td>Go until jurong point, crazy.. Available only ...</td>\n",
       "    </tr>\n",
       "    <tr>\n",
       "      <th>1</th>\n",
       "      <td>ham</td>\n",
       "      <td>Ok lar... Joking wif u oni...</td>\n",
       "    </tr>\n",
       "    <tr>\n",
       "      <th>2</th>\n",
       "      <td>spam</td>\n",
       "      <td>Free entry in 2 a wkly comp to win FA Cup fina...</td>\n",
       "    </tr>\n",
       "    <tr>\n",
       "      <th>3</th>\n",
       "      <td>ham</td>\n",
       "      <td>U dun say so early hor... U c already then say...</td>\n",
       "    </tr>\n",
       "    <tr>\n",
       "      <th>4</th>\n",
       "      <td>ham</td>\n",
       "      <td>Nah I don't think he goes to usf, he lives aro...</td>\n",
       "    </tr>\n",
       "  </tbody>\n",
       "</table>\n",
       "</div>"
      ],
      "text/plain": [
       "     v1                                                 v2\n",
       "0   ham  Go until jurong point, crazy.. Available only ...\n",
       "1   ham                      Ok lar... Joking wif u oni...\n",
       "2  spam  Free entry in 2 a wkly comp to win FA Cup fina...\n",
       "3   ham  U dun say so early hor... U c already then say...\n",
       "4   ham  Nah I don't think he goes to usf, he lives aro..."
      ]
     },
     "execution_count": 8,
     "metadata": {},
     "output_type": "execute_result"
    }
   ],
   "source": [
    "df.head()"
   ]
  },
  {
   "cell_type": "code",
   "execution_count": null,
   "id": "ebc8a736",
   "metadata": {
    "papermill": {
     "duration": 0.003681,
     "end_time": "2024-04-06T05:25:49.592355",
     "exception": false,
     "start_time": "2024-04-06T05:25:49.588674",
     "status": "completed"
    },
    "tags": []
   },
   "outputs": [],
   "source": []
  }
 ],
 "metadata": {
  "kaggle": {
   "accelerator": "none",
   "dataSources": [
    {
     "datasetId": 483,
     "sourceId": 982,
     "sourceType": "datasetVersion"
    }
   ],
   "dockerImageVersionId": 30673,
   "isGpuEnabled": false,
   "isInternetEnabled": false,
   "language": "python",
   "sourceType": "notebook"
  },
  "kernelspec": {
   "display_name": "Python 3",
   "language": "python",
   "name": "python3"
  },
  "language_info": {
   "codemirror_mode": {
    "name": "ipython",
    "version": 3
   },
   "file_extension": ".py",
   "mimetype": "text/x-python",
   "name": "python",
   "nbconvert_exporter": "python",
   "pygments_lexer": "ipython3",
   "version": "3.10.13"
  },
  "papermill": {
   "default_parameters": {},
   "duration": 3.977957,
   "end_time": "2024-04-06T05:25:49.914822",
   "environment_variables": {},
   "exception": null,
   "input_path": "__notebook__.ipynb",
   "output_path": "__notebook__.ipynb",
   "parameters": {},
   "start_time": "2024-04-06T05:25:45.936865",
   "version": "2.5.0"
  }
 },
 "nbformat": 4,
 "nbformat_minor": 5
}
